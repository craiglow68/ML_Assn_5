{
 "cells": [
  {
   "cell_type": "markdown",
   "metadata": {},
   "source": [
    "# Homework 6 RF Accuracy Improvement\n",
    "\n",
    "This assignment is inspired by examples of Shan-Hung Wu from National Tsing Hua University.\n",
    "\n",
    "Requirement: improve the accuracy per feature of the following code from 0.03 up to at least 0.40 and accuracy should be more than 0.92\n",
    "\n",
    "Here are three hints:\n",
    "\n",
    "    You can improve the ratio by picking out or \"creating\" several features.\n",
    "    Tune hyperparameters\n",
    "    The ratio can be improved from 0.03 up to 0.47."
   ]
  },
  {
   "cell_type": "code",
   "execution_count": 59,
   "metadata": {},
   "outputs": [
    {
     "name": "stdout",
     "output_type": "stream",
     "text": [
      "worst concave points       0.161445\n",
      "worst area                 0.120899\n",
      "mean concave points        0.120143\n",
      "worst perimeter            0.112272\n",
      "worst radius               0.080207\n",
      "mean perimeter             0.072500\n",
      "mean concavity             0.051511\n",
      "mean radius                0.040403\n",
      "worst compactness          0.024390\n",
      "area error                 0.024337\n",
      "mean area                  0.023027\n",
      "worst concavity            0.021521\n",
      "perimeter error            0.016729\n",
      "radius error               0.015361\n",
      "mean texture               0.012707\n",
      "worst texture              0.012180\n",
      "mean compactness           0.012127\n",
      "concave points error       0.010385\n",
      "worst symmetry             0.009379\n",
      "worst smoothness           0.009322\n",
      "worst fractal dimension    0.008901\n",
      "mean smoothness            0.007962\n",
      "symmetry error             0.005607\n",
      "concavity error            0.004837\n",
      "compactness error          0.004794\n",
      "smoothness error           0.004482\n",
      "fractal dimension error    0.003747\n",
      "mean fractal dimension     0.003324\n",
      "texture error              0.003143\n",
      "mean symmetry              0.002359\n",
      "dtype: float64\n"
     ]
    },
    {
     "data": {
      "image/png": "[encoded data removed]",
      "text/plain": [
       "<Figure size 432x288 with 1 Axes>"
      ]
     },
     "metadata": {
      "needs_background": "light"
     },
     "output_type": "display_data"
    },
    {
     "name": "stdout",
     "output_type": "stream",
     "text": [
      "Cross-Validations on Original Model: [0.92105263 0.92982456 0.98245614 0.97368421 0.98230088]\n",
      "CV Mean 0.9578636857630801\n",
      "\n",
      "Cross-Validations on New Model [0.92982456 0.95614035 0.98245614 0.95614035 0.97345133]\n",
      "CV Mean 0.95960254618848\n",
      "\n",
      "Accuracy on Original Model: 0.9590643274853801\n",
      "\n",
      "Limited Feature Accuracy: 0.9590643274853801\n",
      "\n",
      "Original Model - accuracy/numFeatures:  0.031968810916179334\n",
      "\n",
      "Limited Features Model - accuracy/numFeatures:  0.47953216374269003\n",
      "\n"
     ]
    }
   ],
   "source": [
    "import numpy as np\n",
    "import matplotlib.pyplot as plt\n",
    "import pandas as pd\n",
    "import seaborn as sns\n",
    "from sklearn.model_selection import train_test_split\n",
    "from sklearn.datasets import load_breast_cancer\n",
    "from sklearn.metrics import accuracy_score\n",
    "from sklearn.ensemble import RandomForestClassifier\n",
    "from sklearn.model_selection import cross_val_score\n",
    "from sklearn.feature_selection import SelectFromModel\n",
    "\n",
    "# load the breast_cancer dataset\n",
    "init_data = load_breast_cancer()\n",
    "(X, y) = load_breast_cancer(return_X_y=True)\n",
    "\n",
    "X_train, X_test, y_train, y_test = train_test_split(X, y, test_size=0.3, random_state=0)\n",
    "\n",
    "forest = RandomForestClassifier(n_estimators=100)\n",
    "\n",
    "forest.fit(X_train, y_train)\n",
    "importances = forest.feature_importances_\n",
    "\n",
    "# TODO Select some features (X), hint: based on the connections with\n",
    "# our Y (importance? correlation?)\n",
    "\n",
    "feature_imp = pd.Series(importances,index=init_data.feature_names).sort_values(ascending=False)\n",
    "\n",
    "print(feature_imp)\n",
    "\n",
    "sns.barplot(x=feature_imp.index, y=feature_imp.values, data=feature_imp)\n",
    "\n",
    "plt.show()\n",
    "\n",
    "#Here we see that two features are much more important than the others.\n",
    "#Worst Concave Points and Mean Concave Points\n",
    "#In this block we select the two most important features and build another claassifier\n",
    "n_features = 2\n",
    "\n",
    "selector = SelectFromModel(estimator=forest, prefit=True, max_features=n_features)\n",
    "important_features = selector.transform(X)\n",
    "\n",
    "new_X_train, new_X_test, new_y_train, new_y_test = train_test_split(important_features, y, test_size=0.3, random_state=0)\n",
    "\n",
    "new_forest = RandomForestClassifier(n_estimators=100)\n",
    "new_forest.fit(new_X_train, new_y_train)\n",
    "\n",
    "# TODO need 5 fold cross validation\n",
    "cur_score = cross_val_score(forest, X, y, cv=5)\n",
    "\n",
    "print(\"Cross-Validations on Original Model:\", cur_score)\n",
    "print(\"CV Mean\", cur_score.mean())\n",
    "print()#Formatting\n",
    "\n",
    "new_cur_score = cross_val_score(new_forest, X, y, cv=5)\n",
    "print(\"Cross-Validations on New Model\", new_cur_score)\n",
    "print(\"CV Mean\", new_cur_score.mean())\n",
    "print()#Formatting\n",
    "\n",
    "# TODO Tune parameters for RandomForestClassifier\n",
    "\n",
    "\n",
    "# TODO Calculate Average accuracy score\n",
    "test_predictions = forest.predict(X_test)\n",
    "\n",
    "print(\"Accuracy on Original Model:\",accuracy_score(y_test, test_predictions))\n",
    "print()#Formatting\n",
    "\n",
    "limited_feature_test = new_forest.predict(new_X_test)\n",
    "\n",
    "print(\"Limited Feature Accuracy:\",accuracy_score(new_y_test, limited_feature_test))\n",
    "print()#Formatting\n",
    "\n",
    "#TODO Calculate Average (accuracy score/number of features)\n",
    "print(\"Original Model - accuracy/numFeatures: \",(accuracy_score(y_test, test_predictions)/30.0))\n",
    "print()#Formatting\n",
    "\n",
    "print(\"Limited Features Model - accuracy/numFeatures: \",(accuracy_score(new_y_test, limited_feature_test)/n_features))\n",
    "print()#Formatting"
   ]
  },
  {
   "cell_type": "code",
   "execution_count": null,
   "metadata": {},
   "outputs": [],
   "source": []
  }
 ],
 "metadata": {
  "kernelspec": {
   "display_name": "Python 3",
   "language": "python",
   "name": "python3"
  },
  "language_info": {
   "codemirror_mode": {
    "name": "ipython",
    "version": 3
   },
   "file_extension": ".py",
   "mimetype": "text/x-python",
   "name": "python",
   "nbconvert_exporter": "python",
   "pygments_lexer": "ipython3",
   "version": "3.8.5"
  }
 },
 "nbformat": 4,
 "nbformat_minor": 2
}
